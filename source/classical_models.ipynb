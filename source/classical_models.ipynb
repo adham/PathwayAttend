{
 "cells": [
  {
   "cell_type": "code",
   "execution_count": 8,
   "metadata": {},
   "outputs": [],
   "source": [
    "\"\"\"\n",
    "Classical models for pathway data\n",
    "\n",
    "Adham Beyki\n",
    "PRaDA, AA2I2 - Deakin University\n",
    "2018-11-19\n",
    "\"\"\"\n",
    "\n",
    "import numpy as np\n",
    "import pandas as pd\n",
    "from sklearn import metrics\n",
    "from sklearn.pipeline import Pipeline\n",
    "from sklearn.preprocessing import StandardScaler, RobustScaler\n",
    "from sklearn.linear_model import LogisticRegression\n",
    "from sklearn.ensemble import RandomForestClassifier"
   ]
  },
  {
   "cell_type": "code",
   "execution_count": 2,
   "metadata": {},
   "outputs": [],
   "source": [
    "def print_results(y_true, y_pred):\n",
    "    print(metrics.classification_report(y_true, y_pred))\n",
    "    print(metrics.confusion_matrix(y_true, y_pred))"
   ]
  },
  {
   "cell_type": "code",
   "execution_count": 3,
   "metadata": {},
   "outputs": [],
   "source": [
    "# read data\n",
    "PATHWAY_DATA_PATH = \"../data/pathway_data.pkl\"\n",
    "\n",
    "data = pd.read_pickle(PATHWAY_DATA_PATH)\n",
    "\n",
    "pathway_df = data['pathway_df']\n",
    "train_idxs = data['train_idxs']\n",
    "test_idxs = data['test_idxs']\n",
    "\n",
    "cols = pathway_df.columns[:-2]\n",
    "\n",
    "X_train = pathway_df.loc[train_idxs][cols].values\n",
    "y_train = pathway_df.loc[train_idxs]['PAM50']\n",
    "X_test = pathway_df.loc[test_idxs][cols].values\n",
    "y_test = pathway_df.loc[test_idxs]['PAM50']"
   ]
  },
  {
   "cell_type": "code",
   "execution_count": 7,
   "metadata": {},
   "outputs": [
    {
     "name": "stdout",
     "output_type": "stream",
     "text": [
      "Logistic Regression\n"
     ]
    },
    {
     "name": "stderr",
     "output_type": "stream",
     "text": [
      "/home/adham/snakes/lib/python3.5/site-packages/sklearn/linear_model/logistic.py:432: FutureWarning: Default solver will be changed to 'lbfgs' in 0.22. Specify a solver to silence this warning.\n",
      "  FutureWarning)\n"
     ]
    },
    {
     "name": "stdout",
     "output_type": "stream",
     "text": [
      "              precision    recall  f1-score   support\n",
      "\n",
      "        LumA       0.93      0.88      0.90       176\n",
      "        LumB       0.72      0.82      0.77        67\n",
      "\n",
      "   micro avg       0.86      0.86      0.86       243\n",
      "   macro avg       0.83      0.85      0.84       243\n",
      "weighted avg       0.87      0.86      0.87       243\n",
      "\n",
      "[[155  21]\n",
      " [ 12  55]]\n"
     ]
    }
   ],
   "source": [
    "# Logistic Regression\n",
    "print('Logistic Regression')\n",
    "estimators = [\n",
    "    ('standardize', StandardScaler()),\n",
    "    ('logistic_regression', LogisticRegression(class_weight='balanced'))\n",
    "]\n",
    "clf = Pipeline(estimators)\n",
    "clf.fit(X_train, y_train)\n",
    "y_pred = clf.predict(X_test)\n",
    "print_results(y_test, y_pred)"
   ]
  },
  {
   "cell_type": "code",
   "execution_count": 13,
   "metadata": {},
   "outputs": [
    {
     "name": "stdout",
     "output_type": "stream",
     "text": [
      "Random Forest\n",
      "              precision    recall  f1-score   support\n",
      "\n",
      "        LumA       0.87      0.96      0.91       176\n",
      "        LumB       0.86      0.63      0.72        67\n",
      "\n",
      "   micro avg       0.87      0.87      0.87       243\n",
      "   macro avg       0.86      0.79      0.82       243\n",
      "weighted avg       0.87      0.87      0.86       243\n",
      "\n",
      "[[169   7]\n",
      " [ 25  42]]\n"
     ]
    }
   ],
   "source": [
    "# Random Forest\n",
    "print('Random Forest')\n",
    "estimators = [\n",
    "    ('standardize', StandardScaler()),\n",
    "    ('random_forest', RandomForestClassifier(n_estimators=500, class_weight='balanced'))\n",
    "]\n",
    "clf = Pipeline(estimators)\n",
    "clf.fit(X_train, y_train)\n",
    "y_pred = clf.predict(X_test)\n",
    "print_results(y_test, y_pred)"
   ]
  }
 ],
 "metadata": {
  "kernelspec": {
   "display_name": "Python 3",
   "language": "python",
   "name": "python3"
  },
  "language_info": {
   "codemirror_mode": {
    "name": "ipython",
    "version": 3
   },
   "file_extension": ".py",
   "mimetype": "text/x-python",
   "name": "python",
   "nbconvert_exporter": "python",
   "pygments_lexer": "ipython3",
   "version": "3.5.2"
  }
 },
 "nbformat": 4,
 "nbformat_minor": 2
}
