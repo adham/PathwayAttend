{
 "cells": [
  {
   "cell_type": "code",
   "execution_count": 1,
   "metadata": {},
   "outputs": [],
   "source": [
    "\"\"\"\n",
    "reads and prepares the pathway data\n",
    "\n",
    "* Subject ids in gene expression data and PAM50 data do not exactly macth. Gene expression data has\n",
    "  longer subject ids. When shortening them to match to PAM50 data, some of them collapse on the same\n",
    "  id. Therfeore, we have to rectify this issue first.\n",
    "\n",
    "* pathway-gene data uses hgnc annotation, while genexp data uses ensembl. First, find equivalent of \n",
    "  hgnc in ensembl annotation, and then sum the gene expression data to build the pathway data.\n",
    "  \n",
    "  \n",
    "Adham Beyki\n",
    "PRaDA, AA2I2 - Deakin University\n",
    "2018-11-16\n",
    "\"\"\"\n",
    "\n",
    "import numpy as np\n",
    "import pandas as pd\n",
    "from tqdm import tqdm\n",
    "from collections import defaultdict\n",
    "from sklearn.model_selection import train_test_split\n",
    "\n",
    "np.random.seed(100)"
   ]
  },
  {
   "cell_type": "code",
   "execution_count": 2,
   "metadata": {},
   "outputs": [],
   "source": [
    "def transpose_df(df):\n",
    "    \n",
    "    cols = df.columns\n",
    "    vals = df[cols[1:]].values\n",
    "    \n",
    "    df_tr = pd.DataFrame(data=np.transpose(vals), columns=df[\"GENE-ID\"].tolist())\n",
    "    df_tr[\"Sample-ID\"] = cols[1:]\n",
    "    \n",
    "    return df_tr\n",
    "\n",
    "from utils import prep_genexp_data"
   ]
  },
  {
   "cell_type": "code",
   "execution_count": 3,
   "metadata": {},
   "outputs": [],
   "source": [
    "# data files\n",
    "GENEXP_PATH = \"../data/TCGA-BRCA-htseq-ensg-normCounts.csv.gz\"\n",
    "PAM50_PATH = \"../data/TCGA-BRCA-pam50-annot.csv\"\n",
    "SAMPLE_FILTER_PATH = \"../data/TCGA-BRCA-htseq-ensg-colFilter.txt\"\n",
    "\n",
    "genexp_df = prep_genexp_data(GENEXP_PATH, PAM50_PATH, SAMPLE_FILTER_PATH)"
   ]
  },
  {
   "cell_type": "markdown",
   "metadata": {},
   "source": [
    "<hr>"
   ]
  },
  {
   "cell_type": "code",
   "execution_count": 4,
   "metadata": {},
   "outputs": [],
   "source": [
    "# prep pathways\n",
    "PATHWAY_PATH = \"../data/pathways/hgncToGObp.csv\"\n",
    "MIN_NB_GENES = 10"
   ]
  },
  {
   "cell_type": "code",
   "execution_count": 5,
   "metadata": {},
   "outputs": [],
   "source": [
    "def map_pathways_to_genes(pathway_path):\n",
    "    \"\"\" Reads the pathway data and returns a dictionary with pathways as keys and\n",
    "    list of their contributing genes as values.\n",
    "    \"\"\"\n",
    "    \n",
    "    gene_pw_df = pd.read_csv(PATHWAY_PATH)\n",
    "    pathway_to_genes = defaultdict(list)\n",
    "    for i, row in gene_pw_df.iterrows():\n",
    "        gene = row[\"SYMBOL\"]\n",
    "        pathways = row[\"GO\"].split(\"|\")\n",
    "        for pathway in pathways:\n",
    "            pathway_to_genes[pathway].append(gene)\n",
    "    return pathway_to_genes"
   ]
  },
  {
   "cell_type": "code",
   "execution_count": 6,
   "metadata": {},
   "outputs": [],
   "source": [
    "pathway_to_hgnc = map_pathways_to_genes(PATHWAY_PATH)\n",
    "pathway_to_ensembl = defaultdict(list)\n",
    "\n",
    "hgnc_to_ensembl = pd.read_pickle('gene_annotation/hgnc_to_ensembl.pkl')\n",
    "pathways = list(pathway_to_hgnc.keys())\n",
    "for pw in pathways:\n",
    "    for g in pathway_to_hgnc[pw]:\n",
    "        pathway_to_ensembl[pw] += hgnc_to_ensembl[g]"
   ]
  },
  {
   "cell_type": "code",
   "execution_count": 7,
   "metadata": {},
   "outputs": [],
   "source": [
    "# filtering out genes that do not exist in genexp data\n",
    "tmp = []\n",
    "for pathway, genes in pathway_to_ensembl.items():\n",
    "    genes2 = []\n",
    "    for gene in genes:\n",
    "        if gene in genexp_df.columns:\n",
    "            genes2.append(gene)\n",
    "    tmp.append((pathway, genes2))\n",
    "pathway_to_ensembl = dict(tmp)"
   ]
  },
  {
   "cell_type": "code",
   "execution_count": 8,
   "metadata": {},
   "outputs": [],
   "source": [
    "# remove pathways that have fewer genes than a threshold\n",
    "tmp = []\n",
    "for pw, gn in pathway_to_ensembl.items():\n",
    "    if len(gn)>MIN_NB_GENES:\n",
    "        tmp.append([pw, gn])\n",
    "pathway_to_ensembl = dict(tmp)"
   ]
  },
  {
   "cell_type": "code",
   "execution_count": 9,
   "metadata": {},
   "outputs": [
    {
     "name": "stderr",
     "output_type": "stream",
     "text": [
      "pathway from genexp: 100%|██████████| 3942/3942 [00:06<00:00, 605.38it/s]\n"
     ]
    }
   ],
   "source": [
    "# construct the data\n",
    "pathway_df = pd.DataFrame()\n",
    "for pathway, genes in tqdm(pathway_to_ensembl.items(), desc=\"pathway from genexp\"):\n",
    "    pathway_df[pathway] = genexp_df[genes].sum(1)\n",
    "\n",
    "pathway_df[\"Sample-ID\"] = genexp_df[\"Sample-ID\"]\n",
    "pathway_df[\"PAM50\"] = genexp_df[\"PAM50\"]\n",
    "pathway_df.reset_index(drop=True, inplace=True)"
   ]
  },
  {
   "cell_type": "markdown",
   "metadata": {},
   "source": [
    "<hr>"
   ]
  },
  {
   "cell_type": "code",
   "execution_count": 11,
   "metadata": {},
   "outputs": [],
   "source": [
    "OUTPUT = 'pathway_data.pkl'"
   ]
  },
  {
   "cell_type": "code",
   "execution_count": 12,
   "metadata": {},
   "outputs": [],
   "source": [
    "# cook up X and y\n",
    "cols = pathway_df.columns[:-2]\n",
    "X = pathway_df[cols].values\n",
    "y = pathway_df['PAM50'].values\n",
    "X_train, X_test, y_train, y_test, train_idxs, test_idxs = train_test_split(X, y, np.arange(X.shape[0]), test_size=1/3, stratify=y)\n",
    "\n",
    "pd.to_pickle(\n",
    "    {\n",
    "        'pathway_df': pathway_df,\n",
    "        'train_idxs': train_idxs,\n",
    "        'test_idxs': test_idxs\n",
    "    }, OUTPUT    \n",
    ")"
   ]
  }
 ],
 "metadata": {
  "kernelspec": {
   "display_name": "Python 3",
   "language": "python",
   "name": "python3"
  },
  "language_info": {
   "codemirror_mode": {
    "name": "ipython",
    "version": 3
   },
   "file_extension": ".py",
   "mimetype": "text/x-python",
   "name": "python",
   "nbconvert_exporter": "python",
   "pygments_lexer": "ipython3",
   "version": "3.5.2"
  }
 },
 "nbformat": 4,
 "nbformat_minor": 2
}
